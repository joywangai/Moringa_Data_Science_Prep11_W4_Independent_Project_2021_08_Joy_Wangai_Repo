{
  "nbformat": 4,
  "nbformat_minor": 0,
  "metadata": {
    "colab": {
      "name": "Moringa_Data_Science_Prep11_W4_Independent_Project_2021_08_Joy_Wangai_PythonNotebook.ipynb",
      "provenance": [],
      "collapsed_sections": [],
      "toc_visible": true,
      "authorship_tag": "ABX9TyOworJnhnDXhJ55S+awctDl",
      "include_colab_link": true
    },
    "kernelspec": {
      "name": "python3",
      "display_name": "Python 3"
    },
    "language_info": {
      "name": "python"
    }
  },
  "cells": [
    {
      "cell_type": "markdown",
      "metadata": {
        "id": "view-in-github",
        "colab_type": "text"
      },
      "source": [
        "<a href=\"https://colab.research.google.com/github/joywangai/Moringa_Data_Science_Prep11_W4_Independent_Project_2021_08_Joy_Wangai_Repo/blob/main/Moringa_Data_Science_Prep11_W4_Independent_Project_2021_08_Joy_Wangai_PythonNotebook.ipynb\" target=\"_parent\"><img src=\"https://colab.research.google.com/assets/colab-badge.svg\" alt=\"Open In Colab\"/></a>"
      ]
    },
    {
      "cell_type": "markdown",
      "metadata": {
        "id": "0lvmsvLMyJ4f"
      },
      "source": [
        "# 1.Introduction\n",
        "We want to process stations data to understand electric car usage over time using the Autolib dataset.  \n",
        "In this section we import the libraries needed, load the data and get more information about the dataset."
      ]
    },
    {
      "cell_type": "code",
      "metadata": {
        "id": "kpRRsPbAiC3J"
      },
      "source": [
        "# importing the libraries needed\n",
        "import pandas as pd\n",
        "from pandas import Series, DataFrame\n",
        "import csv\n",
        "import numpy as np"
      ],
      "execution_count": 1,
      "outputs": []
    },
    {
      "cell_type": "code",
      "metadata": {
        "colab": {
          "base_uri": "https://localhost:8080/",
          "height": 451
        },
        "id": "mgFOV0WOmFQp",
        "outputId": "ef3caa87-fd04-467a-e15d-33167e5dd179"
      },
      "source": [
        "# read the data from the csv file \n",
        "url=\"http://bit.ly/autolib_dataset\"\n",
        "autolib= pd.read_csv(url, encoding='utf-8', index_col=None)\n",
        "autolib.head()"
      ],
      "execution_count": 2,
      "outputs": [
        {
          "output_type": "execute_result",
          "data": {
            "text/html": [
              "<div>\n",
              "<style scoped>\n",
              "    .dataframe tbody tr th:only-of-type {\n",
              "        vertical-align: middle;\n",
              "    }\n",
              "\n",
              "    .dataframe tbody tr th {\n",
              "        vertical-align: top;\n",
              "    }\n",
              "\n",
              "    .dataframe thead th {\n",
              "        text-align: right;\n",
              "    }\n",
              "</style>\n",
              "<table border=\"1\" class=\"dataframe\">\n",
              "  <thead>\n",
              "    <tr style=\"text-align: right;\">\n",
              "      <th></th>\n",
              "      <th>Address</th>\n",
              "      <th>Cars</th>\n",
              "      <th>Bluecar counter</th>\n",
              "      <th>Utilib counter</th>\n",
              "      <th>Utilib 1.4 counter</th>\n",
              "      <th>Charge Slots</th>\n",
              "      <th>Charging Status</th>\n",
              "      <th>City</th>\n",
              "      <th>Displayed comment</th>\n",
              "      <th>ID</th>\n",
              "      <th>Kind</th>\n",
              "      <th>Geo point</th>\n",
              "      <th>Postal code</th>\n",
              "      <th>Public name</th>\n",
              "      <th>Rental status</th>\n",
              "      <th>Scheduled at</th>\n",
              "      <th>Slots</th>\n",
              "      <th>Station type</th>\n",
              "      <th>Status</th>\n",
              "      <th>Subscription status</th>\n",
              "      <th>year</th>\n",
              "      <th>month</th>\n",
              "      <th>day</th>\n",
              "      <th>hour</th>\n",
              "      <th>minute</th>\n",
              "    </tr>\n",
              "  </thead>\n",
              "  <tbody>\n",
              "    <tr>\n",
              "      <th>0</th>\n",
              "      <td>2 Avenue de Suffren</td>\n",
              "      <td>0</td>\n",
              "      <td>0</td>\n",
              "      <td>0</td>\n",
              "      <td>0</td>\n",
              "      <td>0</td>\n",
              "      <td>nonexistent</td>\n",
              "      <td>Paris</td>\n",
              "      <td>NaN</td>\n",
              "      <td>paris-suffren-2</td>\n",
              "      <td>STATION</td>\n",
              "      <td>48.857, 2.2917</td>\n",
              "      <td>75015</td>\n",
              "      <td>Paris/Suffren/2</td>\n",
              "      <td>operational</td>\n",
              "      <td>NaN</td>\n",
              "      <td>2</td>\n",
              "      <td>station</td>\n",
              "      <td>ok</td>\n",
              "      <td>nonexistent</td>\n",
              "      <td>2018</td>\n",
              "      <td>4</td>\n",
              "      <td>8</td>\n",
              "      <td>11</td>\n",
              "      <td>43</td>\n",
              "    </tr>\n",
              "    <tr>\n",
              "      <th>1</th>\n",
              "      <td>145 Rue Raymond Losserand</td>\n",
              "      <td>6</td>\n",
              "      <td>6</td>\n",
              "      <td>0</td>\n",
              "      <td>0</td>\n",
              "      <td>0</td>\n",
              "      <td>operational</td>\n",
              "      <td>Paris</td>\n",
              "      <td>NaN</td>\n",
              "      <td>paris-raymondlosserand-145</td>\n",
              "      <td>STATION</td>\n",
              "      <td>48.83126, 2.313088</td>\n",
              "      <td>75014</td>\n",
              "      <td>Paris/Raymond Losserand/145</td>\n",
              "      <td>operational</td>\n",
              "      <td>NaN</td>\n",
              "      <td>0</td>\n",
              "      <td>station</td>\n",
              "      <td>ok</td>\n",
              "      <td>nonexistent</td>\n",
              "      <td>2018</td>\n",
              "      <td>4</td>\n",
              "      <td>6</td>\n",
              "      <td>7</td>\n",
              "      <td>24</td>\n",
              "    </tr>\n",
              "    <tr>\n",
              "      <th>2</th>\n",
              "      <td>2 Avenue John Fitzgerald Kennedy</td>\n",
              "      <td>3</td>\n",
              "      <td>3</td>\n",
              "      <td>0</td>\n",
              "      <td>2</td>\n",
              "      <td>0</td>\n",
              "      <td>operational</td>\n",
              "      <td>Le Bourget</td>\n",
              "      <td>NaN</td>\n",
              "      <td>lebourget-johnfitzgeraldkennedy-2</td>\n",
              "      <td>STATION</td>\n",
              "      <td>48.938103, 2.4286035</td>\n",
              "      <td>93350</td>\n",
              "      <td>Le Bourget/John Fitzgerald Kennedy/2</td>\n",
              "      <td>operational</td>\n",
              "      <td>NaN</td>\n",
              "      <td>1</td>\n",
              "      <td>station</td>\n",
              "      <td>ok</td>\n",
              "      <td>nonexistent</td>\n",
              "      <td>2018</td>\n",
              "      <td>4</td>\n",
              "      <td>3</td>\n",
              "      <td>20</td>\n",
              "      <td>14</td>\n",
              "    </tr>\n",
              "    <tr>\n",
              "      <th>3</th>\n",
              "      <td>51 Rue EugÃ¨ne OudinÃ©</td>\n",
              "      <td>3</td>\n",
              "      <td>3</td>\n",
              "      <td>1</td>\n",
              "      <td>0</td>\n",
              "      <td>1</td>\n",
              "      <td>operational</td>\n",
              "      <td>Paris</td>\n",
              "      <td>NaN</td>\n",
              "      <td>paris-eugeneoudine-51</td>\n",
              "      <td>STATION</td>\n",
              "      <td>48.8250327, 2.3725162</td>\n",
              "      <td>75013</td>\n",
              "      <td>Paris/EugÃ¨ne OudinÃ©/51</td>\n",
              "      <td>operational</td>\n",
              "      <td>NaN</td>\n",
              "      <td>2</td>\n",
              "      <td>station</td>\n",
              "      <td>ok</td>\n",
              "      <td>nonexistent</td>\n",
              "      <td>2018</td>\n",
              "      <td>4</td>\n",
              "      <td>4</td>\n",
              "      <td>4</td>\n",
              "      <td>37</td>\n",
              "    </tr>\n",
              "    <tr>\n",
              "      <th>4</th>\n",
              "      <td>6 avenue de la Porte de Champerret</td>\n",
              "      <td>3</td>\n",
              "      <td>3</td>\n",
              "      <td>0</td>\n",
              "      <td>0</td>\n",
              "      <td>0</td>\n",
              "      <td>nonexistent</td>\n",
              "      <td>Paris</td>\n",
              "      <td>NaN</td>\n",
              "      <td>paris-portedechamperret-6</td>\n",
              "      <td>PARKING</td>\n",
              "      <td>48.8862632, 2.2874511</td>\n",
              "      <td>75017</td>\n",
              "      <td>Paris/Porte de Champerret/6</td>\n",
              "      <td>operational</td>\n",
              "      <td>NaN</td>\n",
              "      <td>3</td>\n",
              "      <td>station</td>\n",
              "      <td>ok</td>\n",
              "      <td>nonexistent</td>\n",
              "      <td>2018</td>\n",
              "      <td>4</td>\n",
              "      <td>8</td>\n",
              "      <td>17</td>\n",
              "      <td>23</td>\n",
              "    </tr>\n",
              "  </tbody>\n",
              "</table>\n",
              "</div>"
            ],
            "text/plain": [
              "                              Address  Cars  Bluecar counter  ...  day  hour  minute\n",
              "0                 2 Avenue de Suffren     0                0  ...    8    11      43\n",
              "1           145 Rue Raymond Losserand     6                6  ...    6     7      24\n",
              "2    2 Avenue John Fitzgerald Kennedy     3                3  ...    3    20      14\n",
              "3              51 Rue EugÃ¨ne OudinÃ©     3                3  ...    4     4      37\n",
              "4  6 avenue de la Porte de Champerret     3                3  ...    8    17      23\n",
              "\n",
              "[5 rows x 25 columns]"
            ]
          },
          "metadata": {
            "tags": []
          },
          "execution_count": 2
        }
      ]
    },
    {
      "cell_type": "code",
      "metadata": {
        "colab": {
          "base_uri": "https://localhost:8080/"
        },
        "id": "Y2svU8frDzRx",
        "outputId": "4f69eac4-a47a-438f-c60d-ac06d2e11242"
      },
      "source": [
        "# we find the shape, size and describe the dataframe autolibFrame\n",
        "def autolibinfo():\n",
        "  #the info shows the columns and their data types\n",
        "  infoframe=autolib.info()\n",
        "  #the summary/describe function will give descriptive statistics of the columns with numeric entries\n",
        "  summaryframe=autolib.describe()\n",
        "  return summaryframe, infoframe\n",
        "# we call the function to get more information about the dataset\n",
        "autolibinfo()"
      ],
      "execution_count": 3,
      "outputs": [
        {
          "output_type": "stream",
          "text": [
            "<class 'pandas.core.frame.DataFrame'>\n",
            "RangeIndex: 5000 entries, 0 to 4999\n",
            "Data columns (total 25 columns):\n",
            " #   Column               Non-Null Count  Dtype \n",
            "---  ------               --------------  ----- \n",
            " 0   Address              5000 non-null   object\n",
            " 1   Cars                 5000 non-null   int64 \n",
            " 2   Bluecar counter      5000 non-null   int64 \n",
            " 3   Utilib counter       5000 non-null   int64 \n",
            " 4   Utilib 1.4 counter   5000 non-null   int64 \n",
            " 5   Charge Slots         5000 non-null   int64 \n",
            " 6   Charging Status      5000 non-null   object\n",
            " 7   City                 5000 non-null   object\n",
            " 8   Displayed comment    111 non-null    object\n",
            " 9   ID                   5000 non-null   object\n",
            " 10  Kind                 5000 non-null   object\n",
            " 11  Geo point            5000 non-null   object\n",
            " 12  Postal code          5000 non-null   int64 \n",
            " 13  Public name          5000 non-null   object\n",
            " 14  Rental status        5000 non-null   object\n",
            " 15  Scheduled at         47 non-null     object\n",
            " 16  Slots                5000 non-null   int64 \n",
            " 17  Station type         5000 non-null   object\n",
            " 18  Status               5000 non-null   object\n",
            " 19  Subscription status  5000 non-null   object\n",
            " 20  year                 5000 non-null   int64 \n",
            " 21  month                5000 non-null   int64 \n",
            " 22  day                  5000 non-null   int64 \n",
            " 23  hour                 5000 non-null   int64 \n",
            " 24  minute               5000 non-null   int64 \n",
            "dtypes: int64(12), object(13)\n",
            "memory usage: 976.7+ KB\n"
          ],
          "name": "stdout"
        },
        {
          "output_type": "execute_result",
          "data": {
            "text/plain": [
              "(              Cars  Bluecar counter  ...         hour       minute\n",
              " count  5000.000000      5000.000000  ...  5000.000000  5000.000000\n",
              " mean      2.333600         2.333600  ...    11.509200    29.270000\n",
              " std       2.035274         2.035274  ...     6.893549    17.231741\n",
              " min       0.000000         0.000000  ...     0.000000     0.000000\n",
              " 25%       0.000000         0.000000  ...     6.000000    14.000000\n",
              " 50%       2.000000         2.000000  ...    11.000000    29.000000\n",
              " 75%       4.000000         4.000000  ...    18.000000    44.000000\n",
              " max       7.000000         7.000000  ...    23.000000    59.000000\n",
              " \n",
              " [8 rows x 12 columns], None)"
            ]
          },
          "metadata": {
            "tags": []
          },
          "execution_count": 3
        }
      ]
    },
    {
      "cell_type": "markdown",
      "metadata": {
        "id": "71OfFFr7wt2a"
      },
      "source": [
        "# 2.Data Cleaning\n",
        "We are going to drop: the columns with missing values and the columns that we will not be using in the analysis stage.  \n",
        "We will also need to correct the columns with dates and time to their correct datatype i.e. DateTime."
      ]
    },
    {
      "cell_type": "code",
      "metadata": {
        "colab": {
          "base_uri": "https://localhost:8080/",
          "height": 206
        },
        "id": "krWByR3axXAz",
        "outputId": "8ad66906-a1ba-4ac1-9c59-f5833c0bec69"
      },
      "source": [
        "#keeping only the columns that will be using \t\tyear\tmonth\tday\thour\tminute\n",
        "autolib1=autolib[['Address','Cars','Bluecar counter','Utilib counter','Utilib 1.4 counter','City','year','month','day','hour','minute']]\n",
        "autolib1.head()"
      ],
      "execution_count": 4,
      "outputs": [
        {
          "output_type": "execute_result",
          "data": {
            "text/html": [
              "<div>\n",
              "<style scoped>\n",
              "    .dataframe tbody tr th:only-of-type {\n",
              "        vertical-align: middle;\n",
              "    }\n",
              "\n",
              "    .dataframe tbody tr th {\n",
              "        vertical-align: top;\n",
              "    }\n",
              "\n",
              "    .dataframe thead th {\n",
              "        text-align: right;\n",
              "    }\n",
              "</style>\n",
              "<table border=\"1\" class=\"dataframe\">\n",
              "  <thead>\n",
              "    <tr style=\"text-align: right;\">\n",
              "      <th></th>\n",
              "      <th>Address</th>\n",
              "      <th>Cars</th>\n",
              "      <th>Bluecar counter</th>\n",
              "      <th>Utilib counter</th>\n",
              "      <th>Utilib 1.4 counter</th>\n",
              "      <th>City</th>\n",
              "      <th>year</th>\n",
              "      <th>month</th>\n",
              "      <th>day</th>\n",
              "      <th>hour</th>\n",
              "      <th>minute</th>\n",
              "    </tr>\n",
              "  </thead>\n",
              "  <tbody>\n",
              "    <tr>\n",
              "      <th>0</th>\n",
              "      <td>2 Avenue de Suffren</td>\n",
              "      <td>0</td>\n",
              "      <td>0</td>\n",
              "      <td>0</td>\n",
              "      <td>0</td>\n",
              "      <td>Paris</td>\n",
              "      <td>2018</td>\n",
              "      <td>4</td>\n",
              "      <td>8</td>\n",
              "      <td>11</td>\n",
              "      <td>43</td>\n",
              "    </tr>\n",
              "    <tr>\n",
              "      <th>1</th>\n",
              "      <td>145 Rue Raymond Losserand</td>\n",
              "      <td>6</td>\n",
              "      <td>6</td>\n",
              "      <td>0</td>\n",
              "      <td>0</td>\n",
              "      <td>Paris</td>\n",
              "      <td>2018</td>\n",
              "      <td>4</td>\n",
              "      <td>6</td>\n",
              "      <td>7</td>\n",
              "      <td>24</td>\n",
              "    </tr>\n",
              "    <tr>\n",
              "      <th>2</th>\n",
              "      <td>2 Avenue John Fitzgerald Kennedy</td>\n",
              "      <td>3</td>\n",
              "      <td>3</td>\n",
              "      <td>0</td>\n",
              "      <td>2</td>\n",
              "      <td>Le Bourget</td>\n",
              "      <td>2018</td>\n",
              "      <td>4</td>\n",
              "      <td>3</td>\n",
              "      <td>20</td>\n",
              "      <td>14</td>\n",
              "    </tr>\n",
              "    <tr>\n",
              "      <th>3</th>\n",
              "      <td>51 Rue EugÃ¨ne OudinÃ©</td>\n",
              "      <td>3</td>\n",
              "      <td>3</td>\n",
              "      <td>1</td>\n",
              "      <td>0</td>\n",
              "      <td>Paris</td>\n",
              "      <td>2018</td>\n",
              "      <td>4</td>\n",
              "      <td>4</td>\n",
              "      <td>4</td>\n",
              "      <td>37</td>\n",
              "    </tr>\n",
              "    <tr>\n",
              "      <th>4</th>\n",
              "      <td>6 avenue de la Porte de Champerret</td>\n",
              "      <td>3</td>\n",
              "      <td>3</td>\n",
              "      <td>0</td>\n",
              "      <td>0</td>\n",
              "      <td>Paris</td>\n",
              "      <td>2018</td>\n",
              "      <td>4</td>\n",
              "      <td>8</td>\n",
              "      <td>17</td>\n",
              "      <td>23</td>\n",
              "    </tr>\n",
              "  </tbody>\n",
              "</table>\n",
              "</div>"
            ],
            "text/plain": [
              "                              Address  Cars  Bluecar counter  ...  day  hour minute\n",
              "0                 2 Avenue de Suffren     0                0  ...    8    11     43\n",
              "1           145 Rue Raymond Losserand     6                6  ...    6     7     24\n",
              "2    2 Avenue John Fitzgerald Kennedy     3                3  ...    3    20     14\n",
              "3              51 Rue EugÃ¨ne OudinÃ©     3                3  ...    4     4     37\n",
              "4  6 avenue de la Porte de Champerret     3                3  ...    8    17     23\n",
              "\n",
              "[5 rows x 11 columns]"
            ]
          },
          "metadata": {
            "tags": []
          },
          "execution_count": 4
        }
      ]
    },
    {
      "cell_type": "code",
      "metadata": {
        "colab": {
          "base_uri": "https://localhost:8080/",
          "height": 709
        },
        "id": "1aQZH8AT8XG-",
        "outputId": "ffcd1eda-d7f3-44b2-c09c-d6ada4223045"
      },
      "source": [
        "# changing the date and time columns to the correct datatype\n",
        "def autolibDateTime():\n",
        "  # we combine the columns day month year to one column\n",
        "  autolibColumns=[\"day\",\"month\",\"year\"]\n",
        "  autolib1['date'] = autolib1[autolibColumns].apply(lambda x: '-'.join(x.values.astype(str)), axis=1)\n",
        "  # then change the datatype to DateTime\n",
        "  autolib1['date']=pd.to_datetime(autolib1['date']).dt.date\n",
        "  # then the  day month year columns are dropped \n",
        "  autolib1.drop(columns=[\"day\",\"month\",\"year\"], inplace=True)\n",
        "  # the same steps are taken to deal with the hours and minutes columns\n",
        "  autolibColumns1=[\"hour\",\"minute\"]\n",
        "  autolib1['time'] = autolib1[autolibColumns1].apply(lambda x: ':'.join(x.values.astype(str)), axis=1)\n",
        "  autolib1['time']=pd.to_datetime(autolib1['time'], errors='coerce').dt.time\n",
        "  autolib1.drop(columns=[\"hour\",\"minute\"], inplace=True)\n",
        "  return autolib1.head()\n",
        "# then we call the function\n",
        "autolibDateTime()"
      ],
      "execution_count": 5,
      "outputs": [
        {
          "output_type": "stream",
          "text": [
            "/usr/local/lib/python3.7/dist-packages/ipykernel_launcher.py:5: SettingWithCopyWarning: \n",
            "A value is trying to be set on a copy of a slice from a DataFrame.\n",
            "Try using .loc[row_indexer,col_indexer] = value instead\n",
            "\n",
            "See the caveats in the documentation: https://pandas.pydata.org/pandas-docs/stable/user_guide/indexing.html#returning-a-view-versus-a-copy\n",
            "  \"\"\"\n",
            "/usr/local/lib/python3.7/dist-packages/ipykernel_launcher.py:7: SettingWithCopyWarning: \n",
            "A value is trying to be set on a copy of a slice from a DataFrame.\n",
            "Try using .loc[row_indexer,col_indexer] = value instead\n",
            "\n",
            "See the caveats in the documentation: https://pandas.pydata.org/pandas-docs/stable/user_guide/indexing.html#returning-a-view-versus-a-copy\n",
            "  import sys\n",
            "/usr/local/lib/python3.7/dist-packages/pandas/core/frame.py:4174: SettingWithCopyWarning: \n",
            "A value is trying to be set on a copy of a slice from a DataFrame\n",
            "\n",
            "See the caveats in the documentation: https://pandas.pydata.org/pandas-docs/stable/user_guide/indexing.html#returning-a-view-versus-a-copy\n",
            "  errors=errors,\n",
            "/usr/local/lib/python3.7/dist-packages/ipykernel_launcher.py:12: SettingWithCopyWarning: \n",
            "A value is trying to be set on a copy of a slice from a DataFrame.\n",
            "Try using .loc[row_indexer,col_indexer] = value instead\n",
            "\n",
            "See the caveats in the documentation: https://pandas.pydata.org/pandas-docs/stable/user_guide/indexing.html#returning-a-view-versus-a-copy\n",
            "  if sys.path[0] == '':\n",
            "/usr/local/lib/python3.7/dist-packages/ipykernel_launcher.py:13: SettingWithCopyWarning: \n",
            "A value is trying to be set on a copy of a slice from a DataFrame.\n",
            "Try using .loc[row_indexer,col_indexer] = value instead\n",
            "\n",
            "See the caveats in the documentation: https://pandas.pydata.org/pandas-docs/stable/user_guide/indexing.html#returning-a-view-versus-a-copy\n",
            "  del sys.path[0]\n"
          ],
          "name": "stderr"
        },
        {
          "output_type": "execute_result",
          "data": {
            "text/html": [
              "<div>\n",
              "<style scoped>\n",
              "    .dataframe tbody tr th:only-of-type {\n",
              "        vertical-align: middle;\n",
              "    }\n",
              "\n",
              "    .dataframe tbody tr th {\n",
              "        vertical-align: top;\n",
              "    }\n",
              "\n",
              "    .dataframe thead th {\n",
              "        text-align: right;\n",
              "    }\n",
              "</style>\n",
              "<table border=\"1\" class=\"dataframe\">\n",
              "  <thead>\n",
              "    <tr style=\"text-align: right;\">\n",
              "      <th></th>\n",
              "      <th>Address</th>\n",
              "      <th>Cars</th>\n",
              "      <th>Bluecar counter</th>\n",
              "      <th>Utilib counter</th>\n",
              "      <th>Utilib 1.4 counter</th>\n",
              "      <th>City</th>\n",
              "      <th>date</th>\n",
              "      <th>time</th>\n",
              "    </tr>\n",
              "  </thead>\n",
              "  <tbody>\n",
              "    <tr>\n",
              "      <th>0</th>\n",
              "      <td>2 Avenue de Suffren</td>\n",
              "      <td>0</td>\n",
              "      <td>0</td>\n",
              "      <td>0</td>\n",
              "      <td>0</td>\n",
              "      <td>Paris</td>\n",
              "      <td>2018-08-04</td>\n",
              "      <td>11:43:00</td>\n",
              "    </tr>\n",
              "    <tr>\n",
              "      <th>1</th>\n",
              "      <td>145 Rue Raymond Losserand</td>\n",
              "      <td>6</td>\n",
              "      <td>6</td>\n",
              "      <td>0</td>\n",
              "      <td>0</td>\n",
              "      <td>Paris</td>\n",
              "      <td>2018-06-04</td>\n",
              "      <td>07:24:00</td>\n",
              "    </tr>\n",
              "    <tr>\n",
              "      <th>2</th>\n",
              "      <td>2 Avenue John Fitzgerald Kennedy</td>\n",
              "      <td>3</td>\n",
              "      <td>3</td>\n",
              "      <td>0</td>\n",
              "      <td>2</td>\n",
              "      <td>Le Bourget</td>\n",
              "      <td>2018-03-04</td>\n",
              "      <td>20:14:00</td>\n",
              "    </tr>\n",
              "    <tr>\n",
              "      <th>3</th>\n",
              "      <td>51 Rue EugÃ¨ne OudinÃ©</td>\n",
              "      <td>3</td>\n",
              "      <td>3</td>\n",
              "      <td>1</td>\n",
              "      <td>0</td>\n",
              "      <td>Paris</td>\n",
              "      <td>2018-04-04</td>\n",
              "      <td>04:37:00</td>\n",
              "    </tr>\n",
              "    <tr>\n",
              "      <th>4</th>\n",
              "      <td>6 avenue de la Porte de Champerret</td>\n",
              "      <td>3</td>\n",
              "      <td>3</td>\n",
              "      <td>0</td>\n",
              "      <td>0</td>\n",
              "      <td>Paris</td>\n",
              "      <td>2018-08-04</td>\n",
              "      <td>17:23:00</td>\n",
              "    </tr>\n",
              "  </tbody>\n",
              "</table>\n",
              "</div>"
            ],
            "text/plain": [
              "                              Address  Cars  ...        date      time\n",
              "0                 2 Avenue de Suffren     0  ...  2018-08-04  11:43:00\n",
              "1           145 Rue Raymond Losserand     6  ...  2018-06-04  07:24:00\n",
              "2    2 Avenue John Fitzgerald Kennedy     3  ...  2018-03-04  20:14:00\n",
              "3              51 Rue EugÃ¨ne OudinÃ©     3  ...  2018-04-04  04:37:00\n",
              "4  6 avenue de la Porte de Champerret     3  ...  2018-08-04  17:23:00\n",
              "\n",
              "[5 rows x 8 columns]"
            ]
          },
          "metadata": {
            "tags": []
          },
          "execution_count": 5
        }
      ]
    },
    {
      "cell_type": "markdown",
      "metadata": {
        "id": "QF8cv7R6ybup"
      },
      "source": [
        "# 3.Data Analysis\n",
        "Research problem: To find the most popular hour of the day for picking up a shared electric car (Bluecar) in the city of Paris over the month of April 2018.  \n",
        "Steps:\n",
        "1.  Arrange the data in chronological order i.e. Sort the data in ascending order of date and time. \n",
        "2.  Filter out the observations in the City of Paris.\n",
        "3.  Compute Blue car usage by finding the difference between successive observations of the Bluecar counter column.i.e (previous-current)\n",
        "*   Negative values show that a car was picked\n",
        "*   Zero shows that there was no change\n",
        "*   Positive values show that a car was returned\n",
        "4. To answer the research question we focus on the negative usage values i.e BluecarUsage<0.\n",
        "5. Then we group the list by time,\n",
        "6. And count the observations that meet the criteria BluecarUsage<0\n",
        "7. Then order that in descending order."
      ]
    },
    {
      "cell_type": "code",
      "metadata": {
        "colab": {
          "base_uri": "https://localhost:8080/",
          "height": 206
        },
        "id": "8KDqVz0mHhPQ",
        "outputId": "990e5586-cf2e-4d74-a53c-f79dc97d8ea7"
      },
      "source": [
        "# we first sort the data  in ascending order of date and time\n",
        "autolibFrame1 = autolib1.sort_values([\"date\",\"time\" ], ascending = (True, True))\n",
        "autolibFrame1.head()"
      ],
      "execution_count": 6,
      "outputs": [
        {
          "output_type": "execute_result",
          "data": {
            "text/html": [
              "<div>\n",
              "<style scoped>\n",
              "    .dataframe tbody tr th:only-of-type {\n",
              "        vertical-align: middle;\n",
              "    }\n",
              "\n",
              "    .dataframe tbody tr th {\n",
              "        vertical-align: top;\n",
              "    }\n",
              "\n",
              "    .dataframe thead th {\n",
              "        text-align: right;\n",
              "    }\n",
              "</style>\n",
              "<table border=\"1\" class=\"dataframe\">\n",
              "  <thead>\n",
              "    <tr style=\"text-align: right;\">\n",
              "      <th></th>\n",
              "      <th>Address</th>\n",
              "      <th>Cars</th>\n",
              "      <th>Bluecar counter</th>\n",
              "      <th>Utilib counter</th>\n",
              "      <th>Utilib 1.4 counter</th>\n",
              "      <th>City</th>\n",
              "      <th>date</th>\n",
              "      <th>time</th>\n",
              "    </tr>\n",
              "  </thead>\n",
              "  <tbody>\n",
              "    <tr>\n",
              "      <th>4357</th>\n",
              "      <td>11 rue Marguerite Long</td>\n",
              "      <td>3</td>\n",
              "      <td>3</td>\n",
              "      <td>0</td>\n",
              "      <td>0</td>\n",
              "      <td>Paris</td>\n",
              "      <td>2018-01-04</td>\n",
              "      <td>00:10:00</td>\n",
              "    </tr>\n",
              "    <tr>\n",
              "      <th>3535</th>\n",
              "      <td>8 rue Goubet</td>\n",
              "      <td>3</td>\n",
              "      <td>3</td>\n",
              "      <td>0</td>\n",
              "      <td>0</td>\n",
              "      <td>Paris</td>\n",
              "      <td>2018-01-04</td>\n",
              "      <td>00:11:00</td>\n",
              "    </tr>\n",
              "    <tr>\n",
              "      <th>3652</th>\n",
              "      <td>7 rue Raymond Pitet</td>\n",
              "      <td>4</td>\n",
              "      <td>4</td>\n",
              "      <td>0</td>\n",
              "      <td>0</td>\n",
              "      <td>Paris</td>\n",
              "      <td>2018-01-04</td>\n",
              "      <td>00:11:00</td>\n",
              "    </tr>\n",
              "    <tr>\n",
              "      <th>3400</th>\n",
              "      <td>168 boulevard du GÃ©nÃ©ral de Gaulle</td>\n",
              "      <td>5</td>\n",
              "      <td>5</td>\n",
              "      <td>0</td>\n",
              "      <td>0</td>\n",
              "      <td>Garches</td>\n",
              "      <td>2018-01-04</td>\n",
              "      <td>00:16:00</td>\n",
              "    </tr>\n",
              "    <tr>\n",
              "      <th>4792</th>\n",
              "      <td>20 Boulevard Ãmile Augier</td>\n",
              "      <td>3</td>\n",
              "      <td>3</td>\n",
              "      <td>1</td>\n",
              "      <td>0</td>\n",
              "      <td>Paris</td>\n",
              "      <td>2018-01-04</td>\n",
              "      <td>00:19:00</td>\n",
              "    </tr>\n",
              "  </tbody>\n",
              "</table>\n",
              "</div>"
            ],
            "text/plain": [
              "                                   Address  Cars  ...        date      time\n",
              "4357                11 rue Marguerite Long     3  ...  2018-01-04  00:10:00\n",
              "3535                          8 rue Goubet     3  ...  2018-01-04  00:11:00\n",
              "3652                   7 rue Raymond Pitet     4  ...  2018-01-04  00:11:00\n",
              "3400  168 boulevard du GÃ©nÃ©ral de Gaulle     5  ...  2018-01-04  00:16:00\n",
              "4792            20 Boulevard Ãmile Augier     3  ...  2018-01-04  00:19:00\n",
              "\n",
              "[5 rows x 8 columns]"
            ]
          },
          "metadata": {
            "tags": []
          },
          "execution_count": 6
        }
      ]
    },
    {
      "cell_type": "code",
      "metadata": {
        "colab": {
          "base_uri": "https://localhost:8080/",
          "height": 206
        },
        "id": "BQOCD7j2He5W",
        "outputId": "dc804ff1-df87-41a4-e505-786bc43956e1"
      },
      "source": [
        "# then we filter out the observations in the city of Paris \n",
        "autolibFrame2 = autolibFrame1['City']=='Paris'\n",
        "autolibFrameParis1=autolibFrame1[autolibFrame2]\n",
        "autolibFrameParis1.head()"
      ],
      "execution_count": 7,
      "outputs": [
        {
          "output_type": "execute_result",
          "data": {
            "text/html": [
              "<div>\n",
              "<style scoped>\n",
              "    .dataframe tbody tr th:only-of-type {\n",
              "        vertical-align: middle;\n",
              "    }\n",
              "\n",
              "    .dataframe tbody tr th {\n",
              "        vertical-align: top;\n",
              "    }\n",
              "\n",
              "    .dataframe thead th {\n",
              "        text-align: right;\n",
              "    }\n",
              "</style>\n",
              "<table border=\"1\" class=\"dataframe\">\n",
              "  <thead>\n",
              "    <tr style=\"text-align: right;\">\n",
              "      <th></th>\n",
              "      <th>Address</th>\n",
              "      <th>Cars</th>\n",
              "      <th>Bluecar counter</th>\n",
              "      <th>Utilib counter</th>\n",
              "      <th>Utilib 1.4 counter</th>\n",
              "      <th>City</th>\n",
              "      <th>date</th>\n",
              "      <th>time</th>\n",
              "    </tr>\n",
              "  </thead>\n",
              "  <tbody>\n",
              "    <tr>\n",
              "      <th>4357</th>\n",
              "      <td>11 rue Marguerite Long</td>\n",
              "      <td>3</td>\n",
              "      <td>3</td>\n",
              "      <td>0</td>\n",
              "      <td>0</td>\n",
              "      <td>Paris</td>\n",
              "      <td>2018-01-04</td>\n",
              "      <td>00:10:00</td>\n",
              "    </tr>\n",
              "    <tr>\n",
              "      <th>3535</th>\n",
              "      <td>8 rue Goubet</td>\n",
              "      <td>3</td>\n",
              "      <td>3</td>\n",
              "      <td>0</td>\n",
              "      <td>0</td>\n",
              "      <td>Paris</td>\n",
              "      <td>2018-01-04</td>\n",
              "      <td>00:11:00</td>\n",
              "    </tr>\n",
              "    <tr>\n",
              "      <th>3652</th>\n",
              "      <td>7 rue Raymond Pitet</td>\n",
              "      <td>4</td>\n",
              "      <td>4</td>\n",
              "      <td>0</td>\n",
              "      <td>0</td>\n",
              "      <td>Paris</td>\n",
              "      <td>2018-01-04</td>\n",
              "      <td>00:11:00</td>\n",
              "    </tr>\n",
              "    <tr>\n",
              "      <th>4792</th>\n",
              "      <td>20 Boulevard Ãmile Augier</td>\n",
              "      <td>3</td>\n",
              "      <td>3</td>\n",
              "      <td>1</td>\n",
              "      <td>0</td>\n",
              "      <td>Paris</td>\n",
              "      <td>2018-01-04</td>\n",
              "      <td>00:19:00</td>\n",
              "    </tr>\n",
              "    <tr>\n",
              "      <th>3583</th>\n",
              "      <td>169 avenue de Flandre</td>\n",
              "      <td>3</td>\n",
              "      <td>3</td>\n",
              "      <td>0</td>\n",
              "      <td>0</td>\n",
              "      <td>Paris</td>\n",
              "      <td>2018-01-04</td>\n",
              "      <td>00:20:00</td>\n",
              "    </tr>\n",
              "  </tbody>\n",
              "</table>\n",
              "</div>"
            ],
            "text/plain": [
              "                         Address  Cars  ...        date      time\n",
              "4357      11 rue Marguerite Long     3  ...  2018-01-04  00:10:00\n",
              "3535                8 rue Goubet     3  ...  2018-01-04  00:11:00\n",
              "3652         7 rue Raymond Pitet     4  ...  2018-01-04  00:11:00\n",
              "4792  20 Boulevard Ãmile Augier     3  ...  2018-01-04  00:19:00\n",
              "3583       169 avenue de Flandre     3  ...  2018-01-04  00:20:00\n",
              "\n",
              "[5 rows x 8 columns]"
            ]
          },
          "metadata": {
            "tags": []
          },
          "execution_count": 7
        }
      ]
    },
    {
      "cell_type": "code",
      "metadata": {
        "colab": {
          "base_uri": "https://localhost:8080/",
          "height": 310
        },
        "id": "7n-KfbxUtXFf",
        "outputId": "f574f0cd-dbc0-4ede-cc5c-91db6efa1546"
      },
      "source": [
        "# then compute Blue car usage by finding the difference between successive observations of the Bluecar counter column\n",
        "autolibFrameParis1[\"BluecarUsage\"] = autolibFrameParis1[\"Bluecar counter\"].diff(-1)\n",
        "autolibFrameParis1.head()"
      ],
      "execution_count": 8,
      "outputs": [
        {
          "output_type": "stream",
          "text": [
            "/usr/local/lib/python3.7/dist-packages/ipykernel_launcher.py:2: SettingWithCopyWarning: \n",
            "A value is trying to be set on a copy of a slice from a DataFrame.\n",
            "Try using .loc[row_indexer,col_indexer] = value instead\n",
            "\n",
            "See the caveats in the documentation: https://pandas.pydata.org/pandas-docs/stable/user_guide/indexing.html#returning-a-view-versus-a-copy\n",
            "  \n"
          ],
          "name": "stderr"
        },
        {
          "output_type": "execute_result",
          "data": {
            "text/html": [
              "<div>\n",
              "<style scoped>\n",
              "    .dataframe tbody tr th:only-of-type {\n",
              "        vertical-align: middle;\n",
              "    }\n",
              "\n",
              "    .dataframe tbody tr th {\n",
              "        vertical-align: top;\n",
              "    }\n",
              "\n",
              "    .dataframe thead th {\n",
              "        text-align: right;\n",
              "    }\n",
              "</style>\n",
              "<table border=\"1\" class=\"dataframe\">\n",
              "  <thead>\n",
              "    <tr style=\"text-align: right;\">\n",
              "      <th></th>\n",
              "      <th>Address</th>\n",
              "      <th>Cars</th>\n",
              "      <th>Bluecar counter</th>\n",
              "      <th>Utilib counter</th>\n",
              "      <th>Utilib 1.4 counter</th>\n",
              "      <th>City</th>\n",
              "      <th>date</th>\n",
              "      <th>time</th>\n",
              "      <th>BluecarUsage</th>\n",
              "    </tr>\n",
              "  </thead>\n",
              "  <tbody>\n",
              "    <tr>\n",
              "      <th>4357</th>\n",
              "      <td>11 rue Marguerite Long</td>\n",
              "      <td>3</td>\n",
              "      <td>3</td>\n",
              "      <td>0</td>\n",
              "      <td>0</td>\n",
              "      <td>Paris</td>\n",
              "      <td>2018-01-04</td>\n",
              "      <td>00:10:00</td>\n",
              "      <td>0.0</td>\n",
              "    </tr>\n",
              "    <tr>\n",
              "      <th>3535</th>\n",
              "      <td>8 rue Goubet</td>\n",
              "      <td>3</td>\n",
              "      <td>3</td>\n",
              "      <td>0</td>\n",
              "      <td>0</td>\n",
              "      <td>Paris</td>\n",
              "      <td>2018-01-04</td>\n",
              "      <td>00:11:00</td>\n",
              "      <td>-1.0</td>\n",
              "    </tr>\n",
              "    <tr>\n",
              "      <th>3652</th>\n",
              "      <td>7 rue Raymond Pitet</td>\n",
              "      <td>4</td>\n",
              "      <td>4</td>\n",
              "      <td>0</td>\n",
              "      <td>0</td>\n",
              "      <td>Paris</td>\n",
              "      <td>2018-01-04</td>\n",
              "      <td>00:11:00</td>\n",
              "      <td>1.0</td>\n",
              "    </tr>\n",
              "    <tr>\n",
              "      <th>4792</th>\n",
              "      <td>20 Boulevard Ãmile Augier</td>\n",
              "      <td>3</td>\n",
              "      <td>3</td>\n",
              "      <td>1</td>\n",
              "      <td>0</td>\n",
              "      <td>Paris</td>\n",
              "      <td>2018-01-04</td>\n",
              "      <td>00:19:00</td>\n",
              "      <td>0.0</td>\n",
              "    </tr>\n",
              "    <tr>\n",
              "      <th>3583</th>\n",
              "      <td>169 avenue de Flandre</td>\n",
              "      <td>3</td>\n",
              "      <td>3</td>\n",
              "      <td>0</td>\n",
              "      <td>0</td>\n",
              "      <td>Paris</td>\n",
              "      <td>2018-01-04</td>\n",
              "      <td>00:20:00</td>\n",
              "      <td>-1.0</td>\n",
              "    </tr>\n",
              "  </tbody>\n",
              "</table>\n",
              "</div>"
            ],
            "text/plain": [
              "                         Address  Cars  ...      time  BluecarUsage\n",
              "4357      11 rue Marguerite Long     3  ...  00:10:00           0.0\n",
              "3535                8 rue Goubet     3  ...  00:11:00          -1.0\n",
              "3652         7 rue Raymond Pitet     4  ...  00:11:00           1.0\n",
              "4792  20 Boulevard Ãmile Augier     3  ...  00:19:00           0.0\n",
              "3583       169 avenue de Flandre     3  ...  00:20:00          -1.0\n",
              "\n",
              "[5 rows x 9 columns]"
            ]
          },
          "metadata": {
            "tags": []
          },
          "execution_count": 8
        }
      ]
    },
    {
      "cell_type": "code",
      "metadata": {
        "colab": {
          "base_uri": "https://localhost:8080/"
        },
        "id": "-90_FvTDPuRw",
        "outputId": "6407e222-c73d-45ff-8b26-b62e0b8f9ebd"
      },
      "source": [
        "# then order the list by ascending order of BluecarUsage and viewing the top 5 results\n",
        "autolibFrameParis1[autolibFrameParis1['BluecarUsage'] < 0].groupby('time')['time'].count().sort_values(ascending=False).head()\n"
      ],
      "execution_count": 9,
      "outputs": [
        {
          "output_type": "execute_result",
          "data": {
            "text/plain": [
              "time\n",
              "07:51:00    4\n",
              "17:20:00    4\n",
              "08:11:00    4\n",
              "11:22:00    4\n",
              "21:24:00    4\n",
              "Name: time, dtype: int64"
            ]
          },
          "metadata": {
            "tags": []
          },
          "execution_count": 9
        }
      ]
    },
    {
      "cell_type": "markdown",
      "metadata": {
        "id": "_7gGeeGhmqE_"
      },
      "source": [
        "# 4.Bonus Questions"
      ]
    },
    {
      "cell_type": "markdown",
      "metadata": {
        "id": "kqaA62rFm-aK"
      },
      "source": [
        "### Q1  \n",
        "What is the most popular hour for returning cars?"
      ]
    },
    {
      "cell_type": "code",
      "metadata": {
        "colab": {
          "base_uri": "https://localhost:8080/"
        },
        "id": "yEfCKjT3najZ",
        "outputId": "77b6623e-822f-40e4-92ad-2baed8ac0a8e"
      },
      "source": [
        "# to answer this we will find the positive bluecar usage values in descending order and viewing the top 5 results\n",
        "autolibFrameParis1[autolibFrameParis1['BluecarUsage'] > 0].groupby('time')['time'].count().sort_values(ascending=False).head()\n"
      ],
      "execution_count": 11,
      "outputs": [
        {
          "output_type": "execute_result",
          "data": {
            "text/plain": [
              "time\n",
              "13:24:00    5\n",
              "10:55:00    5\n",
              "00:24:00    4\n",
              "02:35:00    4\n",
              "22:26:00    4\n",
              "Name: time, dtype: int64"
            ]
          },
          "metadata": {
            "tags": []
          },
          "execution_count": 11
        }
      ]
    },
    {
      "cell_type": "markdown",
      "metadata": {
        "id": "Y2tTP7oonbjN"
      },
      "source": [
        "### Q2  \n",
        "What station is the most popular?  \n",
        "Overall?  \n",
        "At the most popular picking hour?"
      ]
    },
    {
      "cell_type": "code",
      "metadata": {
        "colab": {
          "base_uri": "https://localhost:8080/",
          "height": 310
        },
        "id": "-9JWPkWVnch6",
        "outputId": "877ece40-1616-40b2-fa33-b27c47bae0f3"
      },
      "source": [
        "# we create another table that inlcude the station and postal code columns\n",
        "newcols=autolib[[\"ID\",\"Postal code\"]]\n",
        "autolib2=autolib1.join(newcols)\n",
        "autolib2.head()"
      ],
      "execution_count": 12,
      "outputs": [
        {
          "output_type": "execute_result",
          "data": {
            "text/html": [
              "<div>\n",
              "<style scoped>\n",
              "    .dataframe tbody tr th:only-of-type {\n",
              "        vertical-align: middle;\n",
              "    }\n",
              "\n",
              "    .dataframe tbody tr th {\n",
              "        vertical-align: top;\n",
              "    }\n",
              "\n",
              "    .dataframe thead th {\n",
              "        text-align: right;\n",
              "    }\n",
              "</style>\n",
              "<table border=\"1\" class=\"dataframe\">\n",
              "  <thead>\n",
              "    <tr style=\"text-align: right;\">\n",
              "      <th></th>\n",
              "      <th>Address</th>\n",
              "      <th>Cars</th>\n",
              "      <th>Bluecar counter</th>\n",
              "      <th>Utilib counter</th>\n",
              "      <th>Utilib 1.4 counter</th>\n",
              "      <th>City</th>\n",
              "      <th>date</th>\n",
              "      <th>time</th>\n",
              "      <th>ID</th>\n",
              "      <th>Postal code</th>\n",
              "    </tr>\n",
              "  </thead>\n",
              "  <tbody>\n",
              "    <tr>\n",
              "      <th>0</th>\n",
              "      <td>2 Avenue de Suffren</td>\n",
              "      <td>0</td>\n",
              "      <td>0</td>\n",
              "      <td>0</td>\n",
              "      <td>0</td>\n",
              "      <td>Paris</td>\n",
              "      <td>2018-08-04</td>\n",
              "      <td>11:43:00</td>\n",
              "      <td>paris-suffren-2</td>\n",
              "      <td>75015</td>\n",
              "    </tr>\n",
              "    <tr>\n",
              "      <th>1</th>\n",
              "      <td>145 Rue Raymond Losserand</td>\n",
              "      <td>6</td>\n",
              "      <td>6</td>\n",
              "      <td>0</td>\n",
              "      <td>0</td>\n",
              "      <td>Paris</td>\n",
              "      <td>2018-06-04</td>\n",
              "      <td>07:24:00</td>\n",
              "      <td>paris-raymondlosserand-145</td>\n",
              "      <td>75014</td>\n",
              "    </tr>\n",
              "    <tr>\n",
              "      <th>2</th>\n",
              "      <td>2 Avenue John Fitzgerald Kennedy</td>\n",
              "      <td>3</td>\n",
              "      <td>3</td>\n",
              "      <td>0</td>\n",
              "      <td>2</td>\n",
              "      <td>Le Bourget</td>\n",
              "      <td>2018-03-04</td>\n",
              "      <td>20:14:00</td>\n",
              "      <td>lebourget-johnfitzgeraldkennedy-2</td>\n",
              "      <td>93350</td>\n",
              "    </tr>\n",
              "    <tr>\n",
              "      <th>3</th>\n",
              "      <td>51 Rue EugÃ¨ne OudinÃ©</td>\n",
              "      <td>3</td>\n",
              "      <td>3</td>\n",
              "      <td>1</td>\n",
              "      <td>0</td>\n",
              "      <td>Paris</td>\n",
              "      <td>2018-04-04</td>\n",
              "      <td>04:37:00</td>\n",
              "      <td>paris-eugeneoudine-51</td>\n",
              "      <td>75013</td>\n",
              "    </tr>\n",
              "    <tr>\n",
              "      <th>4</th>\n",
              "      <td>6 avenue de la Porte de Champerret</td>\n",
              "      <td>3</td>\n",
              "      <td>3</td>\n",
              "      <td>0</td>\n",
              "      <td>0</td>\n",
              "      <td>Paris</td>\n",
              "      <td>2018-08-04</td>\n",
              "      <td>17:23:00</td>\n",
              "      <td>paris-portedechamperret-6</td>\n",
              "      <td>75017</td>\n",
              "    </tr>\n",
              "  </tbody>\n",
              "</table>\n",
              "</div>"
            ],
            "text/plain": [
              "                              Address  ...  Postal code\n",
              "0                 2 Avenue de Suffren  ...        75015\n",
              "1           145 Rue Raymond Losserand  ...        75014\n",
              "2    2 Avenue John Fitzgerald Kennedy  ...        93350\n",
              "3              51 Rue EugÃ¨ne OudinÃ©  ...        75013\n",
              "4  6 avenue de la Porte de Champerret  ...        75017\n",
              "\n",
              "[5 rows x 10 columns]"
            ]
          },
          "metadata": {
            "tags": []
          },
          "execution_count": 12
        }
      ]
    },
    {
      "cell_type": "code",
      "metadata": {
        "colab": {
          "base_uri": "https://localhost:8080/"
        },
        "id": "cEoECUiCwsfr",
        "outputId": "9bd9091a-2269-4d4c-9102-4dd6dc0e9345"
      },
      "source": [
        "# then repeat the analysis steps on the new dataframe\n",
        "def analysis():\n",
        "  # we first sort the data in ascending order of date and time\n",
        "  a1=autolib2.sort_values([\"date\",\"time\" ], ascending = (True, True))\n",
        "  # then we filter out the observations in the city of Paris \n",
        "  a2=a1[a1['City']=='Paris']\n",
        "  # then compute Blue car usage by finding the difference between successive observations of the Bluecar counter column\n",
        "  a2[\"BluecarUsage2\"] = a2[\"Bluecar counter\"].diff(-1)\n",
        "  # then order the list by ascending order of BluecarUsage and viewing the top 5 results\n",
        "  autolib3=a2[a2[\"BluecarUsage2\"] < 0].groupby('ID')['ID'].count().sort_values(ascending=False)\n",
        "  autolib4=a2[a2[\"BluecarUsage2\"] < 0].groupby(['time','ID'])['time'].count().sort_values(ascending=False)\n",
        "  return autolib3.head() , autolib4.head()\n",
        "# then call the function\n",
        "u,v= analysis()\n",
        "print(f\"{u}\\n\\n{v}\")"
      ],
      "execution_count": 94,
      "outputs": [
        {
          "output_type": "stream",
          "text": [
            "ID\n",
            "paris-mathis-35             8\n",
            "paris-etoilefoch-parking    7\n",
            "paris-belleville-22         7\n",
            "paris-bernardins-23         6\n",
            "paris-saintroch-3           6\n",
            "Name: ID, dtype: int64\n",
            "\n",
            "time      ID                               \n",
            "23:58:00  paris-houdartdelamotte-2             1\n",
            "07:52:00  paris-richardlenoir-63               1\n",
            "08:12:00  paris-lorraine-22                    1\n",
            "08:11:00  paris-uzes-1                         1\n",
            "          paris-montparnasseraspail-parking    1\n",
            "Name: time, dtype: int64\n"
          ],
          "name": "stdout"
        },
        {
          "output_type": "stream",
          "text": [
            "/usr/local/lib/python3.7/dist-packages/ipykernel_launcher.py:8: SettingWithCopyWarning: \n",
            "A value is trying to be set on a copy of a slice from a DataFrame.\n",
            "Try using .loc[row_indexer,col_indexer] = value instead\n",
            "\n",
            "See the caveats in the documentation: https://pandas.pydata.org/pandas-docs/stable/user_guide/indexing.html#returning-a-view-versus-a-copy\n",
            "  \n"
          ],
          "name": "stderr"
        }
      ]
    },
    {
      "cell_type": "markdown",
      "metadata": {
        "id": "QpAZ_qPlndTj"
      },
      "source": [
        "### Q3  \n",
        "What postal code is the most popular for picking up Blue cars? Does the most popular station belong to that postal code?  \n",
        "Overall?  \n",
        "At the most popular picking hour?"
      ]
    },
    {
      "cell_type": "code",
      "metadata": {
        "colab": {
          "base_uri": "https://localhost:8080/"
        },
        "id": "dLosb0EJndta",
        "outputId": "c0746048-f703-40e7-8477-8b9e06e12619"
      },
      "source": [
        "# then repeat the analysis steps on the new dataframe\n",
        "def analysis1():\n",
        "  # we first sort the data in ascending order of date and time\n",
        "  a4=autolib2.sort_values([\"date\",\"time\" ], ascending = (True, True))\n",
        "  # then we filter out the observations in the city of Paris \n",
        "  a5=a4[a4['City']=='Paris']\n",
        "  # then compute Blue car usage by finding the difference between successive observations of the Bluecar counter column\n",
        "  a5[\"BluecarUsage2\"] = a5[\"Bluecar counter\"].diff(-1)\n",
        "  # then order the list by ascending order of BluecarUsage and viewing the top 5 results\n",
        "  autolib5=a5[a5[\"BluecarUsage2\"] < 0].groupby('Postal code')['Postal code'].count().sort_values(ascending=False)\n",
        "  autolib6=a5[a5[\"BluecarUsage2\"] < 0].groupby(['Postal code','time'])['time'].count().sort_values(ascending=False)\n",
        "  return  autolib5.head() , autolib6.head()  \n",
        "# then call the function\n",
        "x,y= analysis1()\n",
        "print(f\"{x}\\n\\n{y}\")"
      ],
      "execution_count": 102,
      "outputs": [
        {
          "output_type": "stream",
          "text": [
            "Postal code\n",
            "75015    93\n",
            "75008    87\n",
            "75016    73\n",
            "75019    69\n",
            "75012    65\n",
            "Name: Postal code, dtype: int64\n",
            "\n",
            "Postal code  time    \n",
            "75007        11:22:00    2\n",
            "75012        03:56:00    2\n",
            "75014        05:52:00    2\n",
            "75019        19:36:00    2\n",
            "75015        12:39:00    2\n",
            "Name: time, dtype: int64\n"
          ],
          "name": "stdout"
        },
        {
          "output_type": "stream",
          "text": [
            "/usr/local/lib/python3.7/dist-packages/ipykernel_launcher.py:8: SettingWithCopyWarning: \n",
            "A value is trying to be set on a copy of a slice from a DataFrame.\n",
            "Try using .loc[row_indexer,col_indexer] = value instead\n",
            "\n",
            "See the caveats in the documentation: https://pandas.pydata.org/pandas-docs/stable/user_guide/indexing.html#returning-a-view-versus-a-copy\n",
            "  \n"
          ],
          "name": "stderr"
        }
      ]
    },
    {
      "cell_type": "markdown",
      "metadata": {
        "id": "dsZy78jknh6U"
      },
      "source": [
        "### Q4\n",
        "Do the results change if you consider Utilib and Utilib 1.4 instead of Blue cars? **Yes.  \n",
        "Using the Utilib cars, we do the previous analysis and we expect the results to change since the count of Utilib cars is different from that of Blue car. Shown below.**"
      ]
    },
    {
      "cell_type": "code",
      "metadata": {
        "colab": {
          "base_uri": "https://localhost:8080/"
        },
        "id": "LpHVgfOIniew",
        "outputId": "af2cf7f8-ca17-4a1e-fe39-2c154338b426"
      },
      "source": [
        "# For utilib\n",
        "def analysis2():\n",
        "  # we first sort the data in ascending order of date and time\n",
        "  a6=autolib2.sort_values([\"date\",\"time\" ], ascending = (True, True))\n",
        "  # then we filter out the observations in the city of Paris \n",
        "  a7=a6[a6['City']=='Paris']\n",
        "  # then compute Blue car usage by finding the difference between successive observations of the Bluecar counter column\n",
        "  a7[\"UtilibUsage\"] = a7[\"Utilib counter\"].diff(-1)\n",
        "  # then order the list by ascending order of BluecarUsage and viewing the top 5 results\n",
        "  autolib6=a7[a7[\"UtilibUsage\"] < 0].groupby('Postal code')['Postal code'].count().sort_values(ascending=False)\n",
        "  autolib7=a7[a7[\"UtilibUsage\"] < 0].groupby(['Postal code','time'])['time'].count().sort_values(ascending=False)\n",
        "  return  autolib6.head() , autolib7.head()  \n",
        "# then call the function\n",
        "x,y= analysis2()\n",
        "print(f\"{x}\\n\\n{y}\")"
      ],
      "execution_count": 105,
      "outputs": [
        {
          "output_type": "stream",
          "text": [
            "Postal code\n",
            "75012    14\n",
            "75016    11\n",
            "75006    10\n",
            "75014    10\n",
            "75019     9\n",
            "Name: Postal code, dtype: int64\n",
            "\n",
            "Postal code  time    \n",
            "75017        11:13:00    2\n",
            "             17:50:00    2\n",
            "75020        18:48:00    1\n",
            "75011        06:51:00    1\n",
            "75009        17:36:00    1\n",
            "Name: time, dtype: int64\n"
          ],
          "name": "stdout"
        },
        {
          "output_type": "stream",
          "text": [
            "/usr/local/lib/python3.7/dist-packages/ipykernel_launcher.py:8: SettingWithCopyWarning: \n",
            "A value is trying to be set on a copy of a slice from a DataFrame.\n",
            "Try using .loc[row_indexer,col_indexer] = value instead\n",
            "\n",
            "See the caveats in the documentation: https://pandas.pydata.org/pandas-docs/stable/user_guide/indexing.html#returning-a-view-versus-a-copy\n",
            "  \n"
          ],
          "name": "stderr"
        }
      ]
    }
  ]
}